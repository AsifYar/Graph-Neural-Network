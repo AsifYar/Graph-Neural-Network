{
  "nbformat": 4,
  "nbformat_minor": 0,
  "metadata": {
    "colab": {
      "name": "GNN with TensoeFlow.ipynb",
      "provenance": [],
      "collapsed_sections": [],
      "authorship_tag": "ABX9TyN4r2s3Bz4VAHVm1iEo0F6c",
      "include_colab_link": true
    },
    "kernelspec": {
      "name": "python3",
      "display_name": "Python 3"
    },
    "language_info": {
      "name": "python"
    }
  },
  "cells": [
    {
      "cell_type": "markdown",
      "metadata": {
        "id": "view-in-github",
        "colab_type": "text"
      },
      "source": [
        "<a href=\"https://colab.research.google.com/github/AsifYar/Graph-Neural-Network/blob/main/GNN%20for%20Classification%20Problem.ipynb\" target=\"_parent\"><img src=\"https://colab.research.google.com/assets/colab-badge.svg\" alt=\"Open In Colab\"/></a>"
      ]
    },
    {
      "cell_type": "markdown",
      "source": [
        "#**Graph Neural Network for Clasification of Cora Dataset**"
      ],
      "metadata": {
        "id": "z72QCa75jBWw"
      }
    },
    {
      "cell_type": "code",
      "execution_count": null,
      "metadata": {
        "id": "5NIxHQxF9hMQ"
      },
      "outputs": [],
      "source": [
        "!pip install spektral\n",
        "\n",
        "import numpy as np\n",
        "import tensorflow as tf\n",
        "import spektral"
      ]
    },
    {
      "cell_type": "code",
      "source": [
        "from spektral.datasets import Cora\n",
        "dataset = Cora()\n",
        "dataset"
      ],
      "metadata": {
        "id": "BZ6oNPIdAu17"
      },
      "execution_count": null,
      "outputs": []
    },
    {
      "cell_type": "code",
      "source": [
        "adj = dataset[0].a # Adjancy matrix\n",
        "adj = adj.todense() * np.eye(adj.shape[0]) # Convert sparse matrix to dense and multiply with identity matrix\n",
        "adj = adj.astype('float32')\n",
        "\n",
        "features = dataset[0].x\n",
        "from scipy import sparse\n",
        "features = sparse.csr_matrix (np.asmatrix(features) )\n",
        "features = features.todense().astype('float32')\n",
        "\n",
        "\n",
        "labels = dataset[0].y\n",
        "train_mask = dataset.mask_tr\n",
        "test_mask = dataset.mask_te\n",
        "val_mask = dataset.mask_va"
      ],
      "metadata": {
        "id": "Eh_E0I50HJw1"
      },
      "execution_count": null,
      "outputs": []
    },
    {
      "cell_type": "code",
      "source": [
        "print(features.shape)\n",
        "print(adj.shape)\n",
        "print(labels.shape)\n",
        "\n",
        "print(np.sum(train_mask)  )\n",
        "print(np.sum(val_mask)  )\n",
        "print(np.sum(test_mask)  )"
      ],
      "metadata": {
        "colab": {
          "base_uri": "https://localhost:8080/"
        },
        "id": "FuBfB-5AL1fR",
        "outputId": "61b472f9-89c7-42d6-8c54-854022a7c030"
      },
      "execution_count": null,
      "outputs": [
        {
          "output_type": "stream",
          "name": "stdout",
          "text": [
            "(2708, 1433)\n",
            "(2708, 2708)\n",
            "(2708, 7)\n",
            "140\n",
            "500\n",
            "1000\n"
          ]
        }
      ]
    },
    {
      "cell_type": "code",
      "source": [
        "# define two functions for loss and evaluation\n",
        "\n",
        "def masked_softmax_cross_entropy (logits, labels , mask): # Returns cross entropy loss by taking only nodes that are masked by mask array\n",
        "  loss = tf.nn.softmax_cross_entropy_with_logits (logits= logits , labels = labels) # compute loss   ... softmax commonly used for classification problems\n",
        "  mask = tf.cast(mask , dtype = tf.float32)\n",
        "  mask /= tf.reduce_mean(mask)\n",
        "  loss *= mask # apply mask to loss\n",
        "  return tf.reduce_mean(loss)\n",
        "\n",
        "\n",
        "def masked_accuracy_matrix(logits , labels , mask): #Compute accuracy matrix for only masked values\n",
        "     correct_predictions =  tf.equal(tf.argmax(logits , 1) , tf.argmax(labels , 1))\n",
        "     acc_all = tf.cast(correct_predictions , dtype= tf.float32)\n",
        "     mask = tf.cast (mask , dtype=tf.float32)\n",
        "     mask /= tf.reduce_mean(mask)\n",
        "     acc_all *= mask\n",
        "     return tf.reduce_mean(acc_all)\n"
      ],
      "metadata": {
        "id": "Ac3PpvM0MTGk"
      },
      "execution_count": null,
      "outputs": []
    },
    {
      "cell_type": "code",
      "source": [
        "def GNN (fts , adj , transform , activation):\n",
        "  '''\n",
        "  fts = feature matrix\n",
        "  adj = adjancy matrix\n",
        "  transform = tramsformation we wish to apply to nodes\n",
        "  activation = activation function\n",
        "  '''\n",
        "\n",
        "  seq_fts = transform(fts) # transform origional features\n",
        "  mul_fts = tf.matmul( adj , seq_fts)\n",
        "  return activation (mul_fts)\n"
      ],
      "metadata": {
        "id": "S44-KCOFacZz"
      },
      "execution_count": null,
      "outputs": []
    },
    {
      "cell_type": "code",
      "source": [
        "from tensorflow.python.ops.gen_math_ops import Range\n",
        "from tensorflow.python.ops.gen_array_ops import identity\n",
        "# Define a simpe 2 layer GNN to classify cora dataset\n",
        "\n",
        "\n",
        "def train_cora (fts , adj, gnn_fn, units , epochs , lr , classes , activation_fun):\n",
        "  lyr_1 = tf.keras.layers.Dense(units=units) # Hidden Layer\n",
        "  lyr_2 = tf.keras.layers.Dense(classes) # Classification Laer\n",
        "\n",
        "  def gnn_cora(fts , adj):\n",
        "    hidden = gnn_fn(fts , adj , lyr_1 , activation_fun) #Compute / activate each unit in hidden layer\n",
        "    logits = gnn_fn(hidden , adj , lyr_2 , tf.identity)\n",
        "    return logits\n",
        "\n",
        "  optmizer = tf.keras.optimizers.Adam(learning_rate=lr)\n",
        "\n",
        "  # Create a standard training pipeline for tracking\n",
        "  best_accuracy = 0.0\n",
        "  for ep in range(epochs):\n",
        "    with tf.GradientTape() as tape: # Record the gradiants\n",
        "      logits = gnn_cora(fts , adj)\n",
        "      loss =   masked_softmax_cross_entropy(logits , labels , train_mask)\n",
        "\n",
        "    variables = tape.watched_variables()\n",
        "    grads = tape.gradient(loss , variables)\n",
        "    optmizer.apply_gradients (zip(grads , variables))\n",
        "\n",
        "    logits = gnn_cora(fts , adj)\n",
        "    val_acc = masked_accuracy_matrix(logits , labels , val_mask)\n",
        "    test_acc = masked_accuracy_matrix(logits , labels , test_mask)\n",
        "\n",
        "    if (val_acc > best_accuracy):\n",
        "      best_accuracy = val_acc\n",
        "      print ('Epochs ' , ep , '|Training loss: ' , loss.numpy() ,' | Validation Accuracy: ' , val_acc.numpy() , ' | Test Accuracy ' , test_acc.numpy()  )\n",
        "\n",
        "    \n",
        "\n",
        "\n",
        "\n",
        "\n",
        "\n",
        "\n",
        "\n",
        "\n"
      ],
      "metadata": {
        "id": "JDI3VcdEbZQM"
      },
      "execution_count": null,
      "outputs": []
    },
    {
      "cell_type": "code",
      "source": [
        "train_cora(features , adj , GNN , 32 , 200 , 0.01 , 7 , tf.nn.relu)"
      ],
      "metadata": {
        "colab": {
          "base_uri": "https://localhost:8080/"
        },
        "id": "Jgpyga7yMHtz",
        "outputId": "d6a1991e-e982-4849-9e12-33c71abd6300"
      },
      "execution_count": null,
      "outputs": [
        {
          "output_type": "stream",
          "name": "stdout",
          "text": [
            "Epochs  0 |Training loss:  3.2374375  | Validation Accuracy:  0.35399997  | Test Accuracy  0.376\n",
            "Epochs  1 |Training loss:  6.635388  | Validation Accuracy:  0.378  | Test Accuracy  0.37999997\n",
            "Epochs  2 |Training loss:  3.9438581  | Validation Accuracy:  0.42199996  | Test Accuracy  0.41300002\n",
            "Epochs  3 |Training loss:  2.3471951  | Validation Accuracy:  0.504  | Test Accuracy  0.552\n",
            "Epochs  4 |Training loss:  0.95284355  | Validation Accuracy:  0.622  | Test Accuracy  0.6679999\n",
            "Epochs  5 |Training loss:  0.5943052  | Validation Accuracy:  0.642  | Test Accuracy  0.653\n",
            "Epochs  18 |Training loss:  0.14604793  | Validation Accuracy:  0.646  | Test Accuracy  0.66\n",
            "Epochs  19 |Training loss:  0.13292207  | Validation Accuracy:  0.65  | Test Accuracy  0.67199993\n",
            "Epochs  20 |Training loss:  0.12069238  | Validation Accuracy:  0.66400003  | Test Accuracy  0.67599994\n",
            "Epochs  21 |Training loss:  0.10927628  | Validation Accuracy:  0.668  | Test Accuracy  0.685\n",
            "Epochs  22 |Training loss:  0.099489965  | Validation Accuracy:  0.67399997  | Test Accuracy  0.692\n",
            "Epochs  23 |Training loss:  0.09157312  | Validation Accuracy:  0.678  | Test Accuracy  0.6999999\n",
            "Epochs  24 |Training loss:  0.08511095  | Validation Accuracy:  0.684  | Test Accuracy  0.70699996\n",
            "Epochs  25 |Training loss:  0.07836851  | Validation Accuracy:  0.694  | Test Accuracy  0.716\n",
            "Epochs  26 |Training loss:  0.07255472  | Validation Accuracy:  0.69600004  | Test Accuracy  0.719\n",
            "Epochs  27 |Training loss:  0.06714716  | Validation Accuracy:  0.706  | Test Accuracy  0.721\n",
            "Epochs  28 |Training loss:  0.061957467  | Validation Accuracy:  0.714  | Test Accuracy  0.72499996\n"
          ]
        }
      ]
    },
    {
      "cell_type": "code",
      "source": [
        "train_cora(features , adj , GNN , 32 , 200 , 0.01 , 7 , tf.nn.softmax)"
      ],
      "metadata": {
        "colab": {
          "base_uri": "https://localhost:8080/"
        },
        "id": "X99_WxJRPC4v",
        "outputId": "dfc28504-9ac0-4fea-9264-bd157dafd8ae"
      },
      "execution_count": null,
      "outputs": [
        {
          "output_type": "stream",
          "name": "stdout",
          "text": [
            "Epochs  0 |Training loss:  1.9795996  | Validation Accuracy:  0.29599997  | Test Accuracy  0.309\n",
            "Epochs  1 |Training loss:  1.754537  | Validation Accuracy:  0.38799998  | Test Accuracy  0.41400003\n",
            "Epochs  2 |Training loss:  1.5854099  | Validation Accuracy:  0.466  | Test Accuracy  0.467\n",
            "Epochs  3 |Training loss:  1.4308763  | Validation Accuracy:  0.574  | Test Accuracy  0.59\n",
            "Epochs  4 |Training loss:  1.2926052  | Validation Accuracy:  0.62  | Test Accuracy  0.68\n",
            "Epochs  5 |Training loss:  1.2088951  | Validation Accuracy:  0.642  | Test Accuracy  0.695\n",
            "Epochs  6 |Training loss:  1.1450729  | Validation Accuracy:  0.662  | Test Accuracy  0.705\n",
            "Epochs  7 |Training loss:  1.0890396  | Validation Accuracy:  0.666  | Test Accuracy  0.71199995\n",
            "Epochs  8 |Training loss:  1.0359044  | Validation Accuracy:  0.684  | Test Accuracy  0.71199995\n",
            "Epochs  9 |Training loss:  0.98747104  | Validation Accuracy:  0.698  | Test Accuracy  0.723\n",
            "Epochs  10 |Training loss:  0.94308424  | Validation Accuracy:  0.722  | Test Accuracy  0.73099995\n",
            "Epochs  11 |Training loss:  0.9029736  | Validation Accuracy:  0.72999996  | Test Accuracy  0.737\n",
            "Epochs  12 |Training loss:  0.8659297  | Validation Accuracy:  0.73599994  | Test Accuracy  0.743\n",
            "Epochs  13 |Training loss:  0.8318355  | Validation Accuracy:  0.738  | Test Accuracy  0.754\n",
            "Epochs  14 |Training loss:  0.8003889  | Validation Accuracy:  0.742  | Test Accuracy  0.7559999\n",
            "Epochs  15 |Training loss:  0.77091837  | Validation Accuracy:  0.74399996  | Test Accuracy  0.75999993\n",
            "Epochs  16 |Training loss:  0.7429062  | Validation Accuracy:  0.746  | Test Accuracy  0.76000005\n",
            "Epochs  20 |Training loss:  0.640926  | Validation Accuracy:  0.75399995  | Test Accuracy  0.76900005\n",
            "Epochs  21 |Training loss:  0.6188101  | Validation Accuracy:  0.756  | Test Accuracy  0.763\n"
          ]
        }
      ]
    },
    {
      "cell_type": "code",
      "source": [
        "train_cora(features , tf.eye(adj.shape[0]) , GNN , 32 , 200 , 0.01 , 7 , tf.nn.relu) # instead of adjancy matrix use "
      ],
      "metadata": {
        "colab": {
          "base_uri": "https://localhost:8080/"
        },
        "id": "Rt8I9D5aPuOH",
        "outputId": "35c0432e-2e0f-4b2f-e303-fd7e41533b21"
      },
      "execution_count": null,
      "outputs": [
        {
          "output_type": "stream",
          "name": "stdout",
          "text": [
            "Epochs  0 |Training loss:  1.9583569  | Validation Accuracy:  0.22999999  | Test Accuracy  0.263\n",
            "Epochs  1 |Training loss:  1.6807013  | Validation Accuracy:  0.304  | Test Accuracy  0.342\n",
            "Epochs  2 |Training loss:  1.4382328  | Validation Accuracy:  0.37600002  | Test Accuracy  0.39299995\n",
            "Epochs  3 |Training loss:  1.1827601  | Validation Accuracy:  0.42799997  | Test Accuracy  0.431\n",
            "Epochs  4 |Training loss:  0.92878306  | Validation Accuracy:  0.464  | Test Accuracy  0.46299997\n",
            "Epochs  5 |Training loss:  0.6989178  | Validation Accuracy:  0.48399997  | Test Accuracy  0.49899998\n",
            "Epochs  6 |Training loss:  0.50805753  | Validation Accuracy:  0.484  | Test Accuracy  0.51299995\n",
            "Epochs  7 |Training loss:  0.36240962  | Validation Accuracy:  0.486  | Test Accuracy  0.525\n",
            "Epochs  8 |Training loss:  0.25850803  | Validation Accuracy:  0.508  | Test Accuracy  0.52599996\n",
            "Epochs  9 |Training loss:  0.18725704  | Validation Accuracy:  0.51799995  | Test Accuracy  0.52199996\n",
            "Epochs  10 |Training loss:  0.13871744  | Validation Accuracy:  0.528  | Test Accuracy  0.523\n"
          ]
        }
      ]
    },
    {
      "cell_type": "code",
      "source": [
        "degree_matrix = tf.reduce_sum(adj , axis=1)\n",
        "\n",
        "train_cora(features , adj / degree_matrix , GNN , 32 , 200 , 0.01 , 7 , tf.nn.relu) # instead of adjancy matrix use "
      ],
      "metadata": {
        "colab": {
          "base_uri": "https://localhost:8080/"
        },
        "id": "DQhAPdxkQwYA",
        "outputId": "597baa34-768d-45a9-8231-8860d7352c7d"
      },
      "execution_count": null,
      "outputs": [
        {
          "output_type": "stream",
          "name": "stdout",
          "text": [
            "Epochs  0 |Training loss:  1.9375024  | Validation Accuracy:  0.41800004  | Test Accuracy  0.48499995\n",
            "Epochs  1 |Training loss:  1.7165662  | Validation Accuracy:  0.56  | Test Accuracy  0.589\n",
            "Epochs  2 |Training loss:  1.473541  | Validation Accuracy:  0.634  | Test Accuracy  0.659\n",
            "Epochs  3 |Training loss:  1.2152877  | Validation Accuracy:  0.716  | Test Accuracy  0.71199995\n",
            "Epochs  4 |Training loss:  0.9842669  | Validation Accuracy:  0.766  | Test Accuracy  0.755\n",
            "Epochs  5 |Training loss:  0.7881317  | Validation Accuracy:  0.77599996  | Test Accuracy  0.77599996\n",
            "Epochs  6 |Training loss:  0.62600493  | Validation Accuracy:  0.78800005  | Test Accuracy  0.7859999\n",
            "Epochs  7 |Training loss:  0.49569085  | Validation Accuracy:  0.798  | Test Accuracy  0.782\n"
          ]
        }
      ]
    },
    {
      "cell_type": "code",
      "source": [
        "# Specific version of normalozation used by Graph Convolution Network\n",
        "\n",
        "degree_matrix = tf.reduce_sum(adj , axis=1)\n",
        "normalized_degree = tf.linalg.diag(1.0 / tf.sqrt(degree_matrix))\n",
        "normalized_adj = tf.matmul(normalized_degree , tf.matmul(adj , normalized_degree ))\n",
        "\n",
        "train_cora(features , normalized_adj , GNN , 32 , 200 , 0.01 , 7 , tf.nn.relu)"
      ],
      "metadata": {
        "colab": {
          "base_uri": "https://localhost:8080/"
        },
        "id": "rwp_WkpMRh74",
        "outputId": "e509d019-3c2c-41b2-c2d9-d490b1615ea5"
      },
      "execution_count": null,
      "outputs": [
        {
          "output_type": "stream",
          "name": "stdout",
          "text": [
            "Epochs  0 |Training loss:  1.948059  | Validation Accuracy:  0.406  | Test Accuracy  0.431\n",
            "Epochs  1 |Training loss:  1.7730652  | Validation Accuracy:  0.54599994  | Test Accuracy  0.54499996\n",
            "Epochs  2 |Training loss:  1.5704899  | Validation Accuracy:  0.608  | Test Accuracy  0.608\n",
            "Epochs  3 |Training loss:  1.3479061  | Validation Accuracy:  0.632  | Test Accuracy  0.65599996\n",
            "Epochs  4 |Training loss:  1.1360527  | Validation Accuracy:  0.69200003  | Test Accuracy  0.71099997\n",
            "Epochs  5 |Training loss:  0.9407301  | Validation Accuracy:  0.728  | Test Accuracy  0.746\n",
            "Epochs  6 |Training loss:  0.76528025  | Validation Accuracy:  0.75200003  | Test Accuracy  0.773\n",
            "Epochs  7 |Training loss:  0.6126938  | Validation Accuracy:  0.77000004  | Test Accuracy  0.79099995\n",
            "Epochs  8 |Training loss:  0.4854016  | Validation Accuracy:  0.774  | Test Accuracy  0.79399997\n",
            "Epochs  9 |Training loss:  0.38260373  | Validation Accuracy:  0.77599996  | Test Accuracy  0.798\n",
            "Epochs  10 |Training loss:  0.30116323  | Validation Accuracy:  0.778  | Test Accuracy  0.798\n",
            "Epochs  11 |Training loss:  0.23695551  | Validation Accuracy:  0.78  | Test Accuracy  0.80099994\n"
          ]
        }
      ]
    },
    {
      "cell_type": "code",
      "source": [
        ""
      ],
      "metadata": {
        "id": "FX1HC9LETyut"
      },
      "execution_count": null,
      "outputs": []
    }
  ]
}